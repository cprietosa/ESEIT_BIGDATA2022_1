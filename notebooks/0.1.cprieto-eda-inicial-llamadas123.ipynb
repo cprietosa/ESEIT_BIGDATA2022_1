{
 "cells": [
  {
   "cell_type": "markdown",
   "metadata": {},
   "source": [
    "# Notebook inicial de EDA para llamadas 123\n",
    "---------------------------------------------"
   ]
  },
  {
   "cell_type": "code",
   "execution_count": 2,
   "metadata": {},
   "outputs": [],
   "source": [
    "# importar librerias de manipulacion\n",
    "import pandas as pd  # Traer todo lo de la libreria\n",
    "\n",
    "import os\n",
    "from pathlib import Path  # Solo traer una funcion de esa libreria\n"
   ]
  },
  {
   "cell_type": "code",
   "execution_count": 6,
   "metadata": {},
   "outputs": [
    {
     "data": {
      "text/plain": [
       "'C:\\\\Users\\\\User\\\\OneDrive\\\\Documentos\\\\Esp. Big Data - Analisis de Datos\\\\Semestre 1\\\\Lenguajes de Programación para Big Data\\\\ESEIT_BIGDATA2022_1\\\\data\\\\raw\\\\llamadas123_julio_2022.csv'"
      ]
     },
     "execution_count": 6,
     "metadata": {},
     "output_type": "execute_result"
    }
   ],
   "source": [
    "root_dir=Path('.').resolve().parent # para conocer la ruta donde estoy\n",
    "root_dir\n",
    "filename='llamadas123_julio_2022.csv'   #Nombre del archivo\n",
    "\n",
    "file_path = os.path.join(root_dir,\"data\",\"raw\",filename)  # Ruta del archivo que necesito \n",
    "file_path\n",
    "\n"
   ]
  },
  {
   "cell_type": "code",
   "execution_count": 15,
   "metadata": {},
   "outputs": [],
   "source": [
    "# Utilizar Pandas para leer mi archivo csv, sep para indicar como viene separado y encoding para indicar el idioma, nrows es para traer una muestra pequeña de la tabla\n",
    "df = pd.read_csv(file_path,sep=\";\",encoding=\"latin-1\",nrows=100)"
   ]
  },
  {
   "cell_type": "code",
   "execution_count": 21,
   "metadata": {},
   "outputs": [],
   "source": [
    "# Utilizar Pandas para leer mi archivo csv, sep para indicar como viene separado y encoding para indicar el idioma, nrows es para traer una muestra pequeña de la tabla\n",
    "df = pd.read_csv(file_path,sep=\";\",encoding=\"latin-1\")"
   ]
  },
  {
   "cell_type": "code",
   "execution_count": 16,
   "metadata": {},
   "outputs": [
    {
     "data": {
      "text/html": [
       "<div>\n",
       "<style scoped>\n",
       "    .dataframe tbody tr th:only-of-type {\n",
       "        vertical-align: middle;\n",
       "    }\n",
       "\n",
       "    .dataframe tbody tr th {\n",
       "        vertical-align: top;\n",
       "    }\n",
       "\n",
       "    .dataframe thead th {\n",
       "        text-align: right;\n",
       "    }\n",
       "</style>\n",
       "<table border=\"1\" class=\"dataframe\">\n",
       "  <thead>\n",
       "    <tr style=\"text-align: right;\">\n",
       "      <th></th>\n",
       "      <th>NUMERO_INCIDENTE</th>\n",
       "      <th>FECHA_INICIO_DESPLAZAMIENTO_MOVIL</th>\n",
       "      <th>CODIGO_LOCALIDAD</th>\n",
       "      <th>LOCALIDAD</th>\n",
       "      <th>EDAD</th>\n",
       "      <th>UNIDAD</th>\n",
       "      <th>GENERO</th>\n",
       "      <th>RED</th>\n",
       "      <th>TIPO_INCIDENTE</th>\n",
       "      <th>PRIORIDAD</th>\n",
       "      <th>RECEPCION</th>\n",
       "    </tr>\n",
       "  </thead>\n",
       "  <tbody>\n",
       "    <tr>\n",
       "      <th>0</th>\n",
       "      <td>CRU-00278353-22</td>\n",
       "      <td>2022-07-01 00:08:59</td>\n",
       "      <td>11</td>\n",
       "      <td>Suba</td>\n",
       "      <td>88</td>\n",
       "      <td>A¤os</td>\n",
       "      <td>FEMENINO</td>\n",
       "      <td>Norte</td>\n",
       "      <td>Accidente Cerebro Vascular</td>\n",
       "      <td>ALTA</td>\n",
       "      <td>2022-07-01 03:40:13</td>\n",
       "    </tr>\n",
       "    <tr>\n",
       "      <th>1</th>\n",
       "      <td>CRU-00278360-22</td>\n",
       "      <td>2022-07-01 00:14:58</td>\n",
       "      <td>11</td>\n",
       "      <td>Suba</td>\n",
       "      <td>16</td>\n",
       "      <td>A¤os</td>\n",
       "      <td>MASCULINO</td>\n",
       "      <td>Norte</td>\n",
       "      <td>Herido</td>\n",
       "      <td>ALTA</td>\n",
       "      <td>2022-07-01 03:38:13</td>\n",
       "    </tr>\n",
       "    <tr>\n",
       "      <th>2</th>\n",
       "      <td>CRU-00278365-22</td>\n",
       "      <td>2022-07-01 00:21:59</td>\n",
       "      <td>18</td>\n",
       "      <td>Rafael Uribe Uribe</td>\n",
       "      <td>52</td>\n",
       "      <td>A¤os</td>\n",
       "      <td>FEMENINO</td>\n",
       "      <td>Centro Oriente</td>\n",
       "      <td>Evento Respiratorio</td>\n",
       "      <td>CRITICA</td>\n",
       "      <td>2022-07-01 04:08:24</td>\n",
       "    </tr>\n",
       "    <tr>\n",
       "      <th>3</th>\n",
       "      <td>CRU-00278370-22</td>\n",
       "      <td>2022-07-01 00:38:38</td>\n",
       "      <td>19</td>\n",
       "      <td>Ciudad Bol¡var</td>\n",
       "      <td>SIN_DATO</td>\n",
       "      <td>SIN_DATO</td>\n",
       "      <td>SIN_DATO</td>\n",
       "      <td>Privada</td>\n",
       "      <td>Herido</td>\n",
       "      <td>ALTA</td>\n",
       "      <td>0000-00-00 00:00:00</td>\n",
       "    </tr>\n",
       "    <tr>\n",
       "      <th>4</th>\n",
       "      <td>CRU-00278372-22</td>\n",
       "      <td>2022-07-01 00:53:32</td>\n",
       "      <td>1</td>\n",
       "      <td>Usaqun</td>\n",
       "      <td>33</td>\n",
       "      <td>A¤os</td>\n",
       "      <td>MASCULINO</td>\n",
       "      <td>Norte</td>\n",
       "      <td>Intento de Suicidio</td>\n",
       "      <td>ALTA</td>\n",
       "      <td>2022-07-01 03:25:29</td>\n",
       "    </tr>\n",
       "    <tr>\n",
       "      <th>5</th>\n",
       "      <td>CRU-00278376-22</td>\n",
       "      <td>2022-07-01 00:56:11</td>\n",
       "      <td>1</td>\n",
       "      <td>Usaqun</td>\n",
       "      <td>SIN_DATO</td>\n",
       "      <td>SIN_DATO</td>\n",
       "      <td>SIN_DATO</td>\n",
       "      <td>Norte</td>\n",
       "      <td>Evento Respiratorio</td>\n",
       "      <td>ALTA</td>\n",
       "      <td>0000-00-00 00:00:00</td>\n",
       "    </tr>\n",
       "    <tr>\n",
       "      <th>6</th>\n",
       "      <td>CRU-00278380-22</td>\n",
       "      <td>2022-07-01 01:09:14</td>\n",
       "      <td>17</td>\n",
       "      <td>La Candelaria</td>\n",
       "      <td>57</td>\n",
       "      <td>A¤os</td>\n",
       "      <td>FEMENINO</td>\n",
       "      <td>Norte</td>\n",
       "      <td>S¡ntomas Gastrointestinales</td>\n",
       "      <td>CRITICA</td>\n",
       "      <td>2022-07-01 04:17:41</td>\n",
       "    </tr>\n",
       "    <tr>\n",
       "      <th>7</th>\n",
       "      <td>CRU-00278379-22</td>\n",
       "      <td>2022-07-01 01:09:27</td>\n",
       "      <td>19</td>\n",
       "      <td>Ciudad Bol¡var</td>\n",
       "      <td>65</td>\n",
       "      <td>A¤os</td>\n",
       "      <td>FEMENINO</td>\n",
       "      <td>Sur</td>\n",
       "      <td>Enfermo</td>\n",
       "      <td>ALTA</td>\n",
       "      <td>2022-07-01 05:07:00</td>\n",
       "    </tr>\n",
       "    <tr>\n",
       "      <th>8</th>\n",
       "      <td>CRU-00278386-22</td>\n",
       "      <td>2022-07-01 01:11:07</td>\n",
       "      <td>15</td>\n",
       "      <td>Antonio Nari¤o</td>\n",
       "      <td>14</td>\n",
       "      <td>A¤os</td>\n",
       "      <td>MASCULINO</td>\n",
       "      <td>Sur</td>\n",
       "      <td>Convulsi¢n</td>\n",
       "      <td>ALTA</td>\n",
       "      <td>2022-07-01 02:37:45</td>\n",
       "    </tr>\n",
       "    <tr>\n",
       "      <th>9</th>\n",
       "      <td>CRU-00278383-22</td>\n",
       "      <td>2022-07-01 01:12:00</td>\n",
       "      <td>4</td>\n",
       "      <td>San Crist¢bal</td>\n",
       "      <td>83</td>\n",
       "      <td>A¤os</td>\n",
       "      <td>FEMENINO</td>\n",
       "      <td>Sur</td>\n",
       "      <td>Evento Respiratorio</td>\n",
       "      <td>ALTA</td>\n",
       "      <td>0000-00-00 00:00:00</td>\n",
       "    </tr>\n",
       "  </tbody>\n",
       "</table>\n",
       "</div>"
      ],
      "text/plain": [
       "  NUMERO_INCIDENTE FECHA_INICIO_DESPLAZAMIENTO_MOVIL  CODIGO_LOCALIDAD  \\\n",
       "0  CRU-00278353-22               2022-07-01 00:08:59                11   \n",
       "1  CRU-00278360-22               2022-07-01 00:14:58                11   \n",
       "2  CRU-00278365-22               2022-07-01 00:21:59                18   \n",
       "3  CRU-00278370-22               2022-07-01 00:38:38                19   \n",
       "4  CRU-00278372-22               2022-07-01 00:53:32                 1   \n",
       "5  CRU-00278376-22               2022-07-01 00:56:11                 1   \n",
       "6  CRU-00278380-22               2022-07-01 01:09:14                17   \n",
       "7  CRU-00278379-22               2022-07-01 01:09:27                19   \n",
       "8  CRU-00278386-22               2022-07-01 01:11:07                15   \n",
       "9  CRU-00278383-22               2022-07-01 01:12:00                 4   \n",
       "\n",
       "            LOCALIDAD      EDAD    UNIDAD     GENERO             RED  \\\n",
       "0                Suba        88      A¤os   FEMENINO           Norte   \n",
       "1                Suba        16      A¤os  MASCULINO           Norte   \n",
       "2  Rafael Uribe Uribe        52      A¤os   FEMENINO  Centro Oriente   \n",
       "3      Ciudad Bol¡var  SIN_DATO  SIN_DATO   SIN_DATO         Privada   \n",
       "4             Usaqun        33      A¤os  MASCULINO           Norte   \n",
       "5             Usaqun  SIN_DATO  SIN_DATO   SIN_DATO           Norte   \n",
       "6       La Candelaria        57      A¤os   FEMENINO           Norte   \n",
       "7      Ciudad Bol¡var        65      A¤os   FEMENINO             Sur   \n",
       "8      Antonio Nari¤o        14      A¤os  MASCULINO             Sur   \n",
       "9       San Crist¢bal        83      A¤os   FEMENINO             Sur   \n",
       "\n",
       "                TIPO_INCIDENTE PRIORIDAD            RECEPCION  \n",
       "0   Accidente Cerebro Vascular      ALTA  2022-07-01 03:40:13  \n",
       "1                       Herido      ALTA  2022-07-01 03:38:13  \n",
       "2          Evento Respiratorio   CRITICA  2022-07-01 04:08:24  \n",
       "3                       Herido      ALTA  0000-00-00 00:00:00  \n",
       "4          Intento de Suicidio      ALTA  2022-07-01 03:25:29  \n",
       "5          Evento Respiratorio      ALTA  0000-00-00 00:00:00  \n",
       "6  S¡ntomas Gastrointestinales   CRITICA  2022-07-01 04:17:41  \n",
       "7                      Enfermo      ALTA  2022-07-01 05:07:00  \n",
       "8                   Convulsi¢n      ALTA  2022-07-01 02:37:45  \n",
       "9          Evento Respiratorio      ALTA  0000-00-00 00:00:00  "
      ]
     },
     "execution_count": 16,
     "metadata": {},
     "output_type": "execute_result"
    }
   ],
   "source": [
    "df.head(10)  # Ver la cantidad de filas que quiero."
   ]
  },
  {
   "cell_type": "code",
   "execution_count": 22,
   "metadata": {},
   "outputs": [
    {
     "data": {
      "text/plain": [
       "13055"
      ]
     },
     "execution_count": 22,
     "metadata": {},
     "output_type": "execute_result"
    }
   ],
   "source": [
    "df.shape[0]  # cantidad de filas y columnas que tiene mi tabla, si coloco 0 me trae filas, si coloco 1 me trae las columnas"
   ]
  },
  {
   "cell_type": "code",
   "execution_count": 20,
   "metadata": {},
   "outputs": [
    {
     "data": {
      "text/plain": [
       "tuple"
      ]
     },
     "execution_count": 20,
     "metadata": {},
     "output_type": "execute_result"
    }
   ],
   "source": [
    "type(df.shape)"
   ]
  },
  {
   "cell_type": "code",
   "execution_count": 23,
   "metadata": {},
   "outputs": [
    {
     "data": {
      "text/plain": [
       "NUMERO_INCIDENTE                     object\n",
       "FECHA_INICIO_DESPLAZAMIENTO_MOVIL    object\n",
       "CODIGO_LOCALIDAD                      int64\n",
       "LOCALIDAD                            object\n",
       "EDAD                                 object\n",
       "UNIDAD                               object\n",
       "GENERO                               object\n",
       "RED                                  object\n",
       "TIPO_INCIDENTE                       object\n",
       "PRIORIDAD                            object\n",
       "RECEPCION                            object\n",
       "dtype: object"
      ]
     },
     "execution_count": 23,
     "metadata": {},
     "output_type": "execute_result"
    }
   ],
   "source": [
    "# object es un string, visualizar el esquema de mi tabla\n",
    "df.dtypes"
   ]
  },
  {
   "cell_type": "code",
   "execution_count": 26,
   "metadata": {},
   "outputs": [
    {
     "data": {
      "text/plain": [
       "Herido                                    0.255228\n",
       "Inconsciente / Paro cardiorespiratorio    0.140942\n",
       "Evento Respiratorio                       0.130525\n",
       "Convulsi¢n                                0.090157\n",
       "Enfermo                                   0.063730\n",
       "Trastorno Mental                          0.058062\n",
       "Dolor Tor cico                            0.054079\n",
       "Intento de Suicidio                       0.051704\n",
       "Accidente Cerebro Vascular                0.029950\n",
       "S¡ntomas Gastrointestinales               0.028878\n",
       "Ca¡da de Altura                           0.023899\n",
       "Patolog¡a Ginecobsttrica                 0.021065\n",
       "Intoxicaci¢n                              0.019916\n",
       "Amenaza de Suicidio                       0.011337\n",
       "Acompa¤amiento Evento                     0.007813\n",
       "Violencia Sexual                          0.005285\n",
       "Maltrato                                  0.002911\n",
       "Electrocuci¢n / rescate                   0.001379\n",
       "Sangrado Vaginal                          0.001379\n",
       "Quemaduras                                0.000919\n",
       "Solicitud de Apoyo                        0.000843\n",
       "Name: TIPO_INCIDENTE, dtype: float64"
      ]
     },
     "execution_count": 26,
     "metadata": {},
     "output_type": "execute_result"
    }
   ],
   "source": [
    "# value_counts es para contar y normalize=True es para porcentaje\n",
    "df['TIPO_INCIDENTE'].value_counts(normalize=True)"
   ]
  },
  {
   "cell_type": "code",
   "execution_count": 28,
   "metadata": {},
   "outputs": [
    {
     "data": {
      "text/plain": [
       "SIN_DATO    0.475144\n",
       "23          0.011566\n",
       "22          0.010724\n",
       "30          0.010341\n",
       "27          0.010264\n",
       "              ...   \n",
       "7           0.001302\n",
       "98          0.001226\n",
       "9           0.001149\n",
       "8           0.001072\n",
       "97          0.000919\n",
       "Name: EDAD, Length: 100, dtype: float64"
      ]
     },
     "execution_count": 28,
     "metadata": {},
     "output_type": "execute_result"
    }
   ],
   "source": [
    "# value_counts es para contar y normalize=True es para porcentaje, dropna para verificar si existe valores vacios\n",
    "df['EDAD'].value_counts(normalize=True, dropna=False)"
   ]
  },
  {
   "cell_type": "code",
   "execution_count": 31,
   "metadata": {},
   "outputs": [
    {
     "data": {
      "text/plain": [
       "21"
      ]
     },
     "execution_count": 31,
     "metadata": {},
     "output_type": "execute_result"
    }
   ],
   "source": [
    "len(df['TIPO_INCIDENTE'].unique())  # Que tan larga es la lista"
   ]
  },
  {
   "cell_type": "code",
   "execution_count": 36,
   "metadata": {},
   "outputs": [
    {
     "data": {
      "text/plain": [
       "Index(['NUMERO_INCIDENTE', 'FECHA_INICIO_DESPLAZAMIENTO_MOVIL',\n",
       "       'CODIGO_LOCALIDAD'],\n",
       "      dtype='object')"
      ]
     },
     "execution_count": 36,
     "metadata": {},
     "output_type": "execute_result"
    }
   ],
   "source": [
    "lista_columnas=df.columns\n",
    "lista_columnas[0:3]   # 0, primer elemento. -1, último elemento"
   ]
  },
  {
   "cell_type": "code",
   "execution_count": 37,
   "metadata": {},
   "outputs": [
    {
     "name": "stdout",
     "output_type": "stream",
     "text": [
      "NUMERO_INCIDENTE\n",
      "FECHA_INICIO_DESPLAZAMIENTO_MOVIL\n",
      "CODIGO_LOCALIDAD\n",
      "LOCALIDAD\n",
      "EDAD\n",
      "UNIDAD\n",
      "GENERO\n",
      "RED\n",
      "TIPO_INCIDENTE\n",
      "PRIORIDAD\n",
      "RECEPCION\n"
     ]
    }
   ],
   "source": [
    "for col in lista_columnas:\n",
    "    print(col)"
   ]
  },
  {
   "cell_type": "code",
   "execution_count": 39,
   "metadata": {},
   "outputs": [
    {
     "name": "stdout",
     "output_type": "stream",
     "text": [
      "columna NUMERO_INCIDENTE 12015\n",
      "columna FECHA_INICIO_DESPLAZAMIENTO_MOVIL 12781\n",
      "columna CODIGO_LOCALIDAD 20\n",
      "columna LOCALIDAD 20\n",
      "columna EDAD 100\n",
      "columna UNIDAD 6\n",
      "columna GENERO 3\n",
      "columna RED 5\n",
      "columna TIPO_INCIDENTE 21\n",
      "columna PRIORIDAD 4\n",
      "columna RECEPCION 5235\n"
     ]
    }
   ],
   "source": [
    "lista_columnas=df.columns\n",
    "for col in lista_columnas:\n",
    "    lista_unicos=df[col].unique()\n",
    "    n_unicos=len(lista_unicos)\n",
    "    print('columna',col,n_unicos)"
   ]
  },
  {
   "cell_type": "code",
   "execution_count": 41,
   "metadata": {},
   "outputs": [
    {
     "name": "stdout",
     "output_type": "stream",
     "text": [
      "fuera del loop\n",
      "{'NUMERO_INCIDENTE': 12015, 'FECHA_INICIO_DESPLAZAMIENTO_MOVIL': 12781, 'CODIGO_LOCALIDAD': 20, 'LOCALIDAD': 20, 'EDAD': 100, 'UNIDAD': 6, 'GENERO': 3, 'RED': 5, 'TIPO_INCIDENTE': 21, 'PRIORIDAD': 4, 'RECEPCION': 5235}\n"
     ]
    }
   ],
   "source": [
    "lista_columnas=df.columns\n",
    "# Crear un diccionario vacio\n",
    "dict_reporte = dict()\n",
    "\n",
    "\n",
    "for col in lista_columnas:\n",
    "    lista_unicos=df[col].unique()\n",
    "    n_unicos=len(lista_unicos)\n",
    "    dict_reporte[col] = n_unicos\n",
    "    # print('columna',col,n_unicos)}\n",
    "\n",
    "print('fuera del loop')\n",
    "print(dict_reporte)"
   ]
  },
  {
   "cell_type": "code",
   "execution_count": 46,
   "metadata": {},
   "outputs": [
    {
     "data": {
      "text/html": [
       "<div>\n",
       "<style scoped>\n",
       "    .dataframe tbody tr th:only-of-type {\n",
       "        vertical-align: middle;\n",
       "    }\n",
       "\n",
       "    .dataframe tbody tr th {\n",
       "        vertical-align: top;\n",
       "    }\n",
       "\n",
       "    .dataframe thead th {\n",
       "        text-align: right;\n",
       "    }\n",
       "</style>\n",
       "<table border=\"1\" class=\"dataframe\">\n",
       "  <thead>\n",
       "    <tr style=\"text-align: right;\">\n",
       "      <th></th>\n",
       "      <th>conteo</th>\n",
       "    </tr>\n",
       "  </thead>\n",
       "  <tbody>\n",
       "    <tr>\n",
       "      <th>NUMERO_INCIDENTE</th>\n",
       "      <td>12015</td>\n",
       "    </tr>\n",
       "    <tr>\n",
       "      <th>FECHA_INICIO_DESPLAZAMIENTO_MOVIL</th>\n",
       "      <td>12781</td>\n",
       "    </tr>\n",
       "    <tr>\n",
       "      <th>CODIGO_LOCALIDAD</th>\n",
       "      <td>20</td>\n",
       "    </tr>\n",
       "    <tr>\n",
       "      <th>LOCALIDAD</th>\n",
       "      <td>20</td>\n",
       "    </tr>\n",
       "    <tr>\n",
       "      <th>EDAD</th>\n",
       "      <td>100</td>\n",
       "    </tr>\n",
       "    <tr>\n",
       "      <th>UNIDAD</th>\n",
       "      <td>6</td>\n",
       "    </tr>\n",
       "    <tr>\n",
       "      <th>GENERO</th>\n",
       "      <td>3</td>\n",
       "    </tr>\n",
       "    <tr>\n",
       "      <th>RED</th>\n",
       "      <td>5</td>\n",
       "    </tr>\n",
       "    <tr>\n",
       "      <th>TIPO_INCIDENTE</th>\n",
       "      <td>21</td>\n",
       "    </tr>\n",
       "    <tr>\n",
       "      <th>PRIORIDAD</th>\n",
       "      <td>4</td>\n",
       "    </tr>\n",
       "    <tr>\n",
       "      <th>RECEPCION</th>\n",
       "      <td>5235</td>\n",
       "    </tr>\n",
       "  </tbody>\n",
       "</table>\n",
       "</div>"
      ],
      "text/plain": [
       "                                   conteo\n",
       "NUMERO_INCIDENTE                    12015\n",
       "FECHA_INICIO_DESPLAZAMIENTO_MOVIL   12781\n",
       "CODIGO_LOCALIDAD                       20\n",
       "LOCALIDAD                              20\n",
       "EDAD                                  100\n",
       "UNIDAD                                  6\n",
       "GENERO                                  3\n",
       "RED                                     5\n",
       "TIPO_INCIDENTE                         21\n",
       "PRIORIDAD                               4\n",
       "RECEPCION                            5235"
      ]
     },
     "execution_count": 46,
     "metadata": {},
     "output_type": "execute_result"
    }
   ],
   "source": [
    "# Crear una tabla con el diccionario que tengo con pandas\n",
    "df_reporte = pd.DataFrame.from_dict(dict_reporte, orient='index')\n",
    "df_reporte.rename({0: 'conteo'}, inplace=True,axis=1)   # 1 buscar en la columna, 0 en las filas\n",
    "df_reporte"
   ]
  },
  {
   "cell_type": "code",
   "execution_count": 49,
   "metadata": {},
   "outputs": [],
   "source": [
    "out_name = 'reporte_' + filename # Renombrar ya el archivo de salida\n",
    "out_name\n",
    "out_path =  os. path.join(root_dir,\"data\", \"processed\", out_name)\n",
    "df_reporte.to_csv(out_path)"
   ]
  },
  {
   "cell_type": "code",
   "execution_count": null,
   "metadata": {},
   "outputs": [],
   "source": []
  }
 ],
 "metadata": {
  "kernelspec": {
   "display_name": "Python 3.9.12 ('base')",
   "language": "python",
   "name": "python3"
  },
  "language_info": {
   "codemirror_mode": {
    "name": "ipython",
    "version": 3
   },
   "file_extension": ".py",
   "mimetype": "text/x-python",
   "name": "python",
   "nbconvert_exporter": "python",
   "pygments_lexer": "ipython3",
   "version": "3.9.12"
  },
  "orig_nbformat": 4,
  "vscode": {
   "interpreter": {
    "hash": "f08154012ddadd8e950e6e9e035c7a7b32c136e7647e9b7c77e02eb723a8bedb"
   }
  }
 },
 "nbformat": 4,
 "nbformat_minor": 2
}
