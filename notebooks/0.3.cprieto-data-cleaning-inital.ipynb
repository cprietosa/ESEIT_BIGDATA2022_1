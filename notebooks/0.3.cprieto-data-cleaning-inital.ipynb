{
 "cells": [
  {
   "cell_type": "markdown",
   "metadata": {},
   "source": [
    "Data Cleaning 101"
   ]
  },
  {
   "cell_type": "code",
   "execution_count": 1,
   "metadata": {},
   "outputs": [
    {
     "data": {
      "text/html": [
       "<div>\n",
       "<style scoped>\n",
       "    .dataframe tbody tr th:only-of-type {\n",
       "        vertical-align: middle;\n",
       "    }\n",
       "\n",
       "    .dataframe tbody tr th {\n",
       "        vertical-align: top;\n",
       "    }\n",
       "\n",
       "    .dataframe thead th {\n",
       "        text-align: right;\n",
       "    }\n",
       "</style>\n",
       "<table border=\"1\" class=\"dataframe\">\n",
       "  <thead>\n",
       "    <tr style=\"text-align: right;\">\n",
       "      <th></th>\n",
       "      <th>NUMERO_INCIDENTE</th>\n",
       "      <th>FECHA_INICIO_DESPLAZAMIENTO_MOVIL</th>\n",
       "      <th>CODIGO_LOCALIDAD</th>\n",
       "      <th>LOCALIDAD</th>\n",
       "      <th>EDAD</th>\n",
       "      <th>UNIDAD</th>\n",
       "      <th>GENERO</th>\n",
       "      <th>RED</th>\n",
       "      <th>TIPO_INCIDENTE</th>\n",
       "      <th>PRIORIDAD</th>\n",
       "      <th>RECEPCION</th>\n",
       "    </tr>\n",
       "  </thead>\n",
       "  <tbody>\n",
       "    <tr>\n",
       "      <th>0</th>\n",
       "      <td>CRU-00278353-22</td>\n",
       "      <td>2022-07-01 00:08:59</td>\n",
       "      <td>11</td>\n",
       "      <td>Suba</td>\n",
       "      <td>88</td>\n",
       "      <td>A¤os</td>\n",
       "      <td>FEMENINO</td>\n",
       "      <td>Norte</td>\n",
       "      <td>Accidente Cerebro Vascular</td>\n",
       "      <td>ALTA</td>\n",
       "      <td>2022-07-01 03:40:13</td>\n",
       "    </tr>\n",
       "    <tr>\n",
       "      <th>1</th>\n",
       "      <td>CRU-00278360-22</td>\n",
       "      <td>2022-07-01 00:14:58</td>\n",
       "      <td>11</td>\n",
       "      <td>Suba</td>\n",
       "      <td>16</td>\n",
       "      <td>A¤os</td>\n",
       "      <td>MASCULINO</td>\n",
       "      <td>Norte</td>\n",
       "      <td>Herido</td>\n",
       "      <td>ALTA</td>\n",
       "      <td>2022-07-01 03:38:13</td>\n",
       "    </tr>\n",
       "    <tr>\n",
       "      <th>2</th>\n",
       "      <td>CRU-00278365-22</td>\n",
       "      <td>2022-07-01 00:21:59</td>\n",
       "      <td>18</td>\n",
       "      <td>Rafael Uribe Uribe</td>\n",
       "      <td>52</td>\n",
       "      <td>A¤os</td>\n",
       "      <td>FEMENINO</td>\n",
       "      <td>Centro Oriente</td>\n",
       "      <td>Evento Respiratorio</td>\n",
       "      <td>CRITICA</td>\n",
       "      <td>2022-07-01 04:08:24</td>\n",
       "    </tr>\n",
       "    <tr>\n",
       "      <th>3</th>\n",
       "      <td>CRU-00278370-22</td>\n",
       "      <td>2022-07-01 00:38:38</td>\n",
       "      <td>19</td>\n",
       "      <td>Ciudad Bol¡var</td>\n",
       "      <td>SIN_DATO</td>\n",
       "      <td>SIN_DATO</td>\n",
       "      <td>SIN_DATO</td>\n",
       "      <td>Privada</td>\n",
       "      <td>Herido</td>\n",
       "      <td>ALTA</td>\n",
       "      <td>0000-00-00 00:00:00</td>\n",
       "    </tr>\n",
       "    <tr>\n",
       "      <th>4</th>\n",
       "      <td>CRU-00278372-22</td>\n",
       "      <td>2022-07-01 00:53:32</td>\n",
       "      <td>1</td>\n",
       "      <td>Usaqun</td>\n",
       "      <td>33</td>\n",
       "      <td>A¤os</td>\n",
       "      <td>MASCULINO</td>\n",
       "      <td>Norte</td>\n",
       "      <td>Intento de Suicidio</td>\n",
       "      <td>ALTA</td>\n",
       "      <td>2022-07-01 03:25:29</td>\n",
       "    </tr>\n",
       "  </tbody>\n",
       "</table>\n",
       "</div>"
      ],
      "text/plain": [
       "  NUMERO_INCIDENTE FECHA_INICIO_DESPLAZAMIENTO_MOVIL  CODIGO_LOCALIDAD  \\\n",
       "0  CRU-00278353-22               2022-07-01 00:08:59                11   \n",
       "1  CRU-00278360-22               2022-07-01 00:14:58                11   \n",
       "2  CRU-00278365-22               2022-07-01 00:21:59                18   \n",
       "3  CRU-00278370-22               2022-07-01 00:38:38                19   \n",
       "4  CRU-00278372-22               2022-07-01 00:53:32                 1   \n",
       "\n",
       "            LOCALIDAD      EDAD    UNIDAD     GENERO             RED  \\\n",
       "0                Suba        88      A¤os   FEMENINO           Norte   \n",
       "1                Suba        16      A¤os  MASCULINO           Norte   \n",
       "2  Rafael Uribe Uribe        52      A¤os   FEMENINO  Centro Oriente   \n",
       "3      Ciudad Bol¡var  SIN_DATO  SIN_DATO   SIN_DATO         Privada   \n",
       "4             Usaqun        33      A¤os  MASCULINO           Norte   \n",
       "\n",
       "               TIPO_INCIDENTE PRIORIDAD            RECEPCION  \n",
       "0  Accidente Cerebro Vascular      ALTA  2022-07-01 03:40:13  \n",
       "1                      Herido      ALTA  2022-07-01 03:38:13  \n",
       "2         Evento Respiratorio   CRITICA  2022-07-01 04:08:24  \n",
       "3                      Herido      ALTA  0000-00-00 00:00:00  \n",
       "4         Intento de Suicidio      ALTA  2022-07-01 03:25:29  "
      ]
     },
     "execution_count": 1,
     "metadata": {},
     "output_type": "execute_result"
    }
   ],
   "source": [
    "import numpy as np\n",
    "import pandas as pd  # Traer todo lo de la libreria\n",
    "\n",
    "import os\n",
    "from pathlib import Path  # Solo traer una funcion de esa libreria\n",
    "\n",
    "root_dir=Path('.').resolve().parent # para conocer la ruta donde estoy\n",
    "root_dir\n",
    "filename='llamadas123_julio_2022.csv'   #Nombre del archivo\n",
    "\n",
    "file_path = os.path.join(root_dir,\"data\",\"raw\",filename)  # Ruta del archivo que necesito \n",
    "file_path\n",
    "\n",
    "data = pd.read_csv(file_path,sep=\";\",encoding=\"latin-1\")\n",
    "data.head()\n"
   ]
  },
  {
   "cell_type": "code",
   "execution_count": 2,
   "metadata": {},
   "outputs": [
    {
     "name": "stdout",
     "output_type": "stream",
     "text": [
      "<class 'pandas.core.frame.DataFrame'>\n",
      "RangeIndex: 13055 entries, 0 to 13054\n",
      "Data columns (total 11 columns):\n",
      " #   Column                             Non-Null Count  Dtype \n",
      "---  ------                             --------------  ----- \n",
      " 0   NUMERO_INCIDENTE                   13055 non-null  object\n",
      " 1   FECHA_INICIO_DESPLAZAMIENTO_MOVIL  13055 non-null  object\n",
      " 2   CODIGO_LOCALIDAD                   13055 non-null  int64 \n",
      " 3   LOCALIDAD                          13055 non-null  object\n",
      " 4   EDAD                               13055 non-null  object\n",
      " 5   UNIDAD                             13047 non-null  object\n",
      " 6   GENERO                             13055 non-null  object\n",
      " 7   RED                                13055 non-null  object\n",
      " 8   TIPO_INCIDENTE                     13055 non-null  object\n",
      " 9   PRIORIDAD                          13055 non-null  object\n",
      " 10  RECEPCION                          13055 non-null  object\n",
      "dtypes: int64(1), object(10)\n",
      "memory usage: 1.1+ MB\n"
     ]
    }
   ],
   "source": [
    "# Obtener informacion basica de los datos \n",
    "data.info()"
   ]
  },
  {
   "cell_type": "code",
   "execution_count": 3,
   "metadata": {},
   "outputs": [
    {
     "name": "stdout",
     "output_type": "stream",
     "text": [
      "forma inicial (13055, 11)\n",
      "forma final (13026, 11)\n"
     ]
    }
   ],
   "source": [
    "# Eliminar registros duplicados\n",
    "print('forma inicial', data.shape)\n",
    "data = data.drop_duplicates()\n",
    "data.reset_index(inplace=True, drop=True)\n",
    "print('forma final', data.shape)\n"
   ]
  },
  {
   "cell_type": "code",
   "execution_count": 4,
   "metadata": {},
   "outputs": [
    {
     "name": "stdout",
     "output_type": "stream",
     "text": [
      "<class 'pandas.core.frame.DataFrame'>\n",
      "RangeIndex: 13026 entries, 0 to 13025\n",
      "Data columns (total 11 columns):\n",
      " #   Column                             Non-Null Count  Dtype \n",
      "---  ------                             --------------  ----- \n",
      " 0   NUMERO_INCIDENTE                   13026 non-null  object\n",
      " 1   FECHA_INICIO_DESPLAZAMIENTO_MOVIL  13026 non-null  object\n",
      " 2   CODIGO_LOCALIDAD                   13026 non-null  int64 \n",
      " 3   LOCALIDAD                          13026 non-null  object\n",
      " 4   EDAD                               13026 non-null  object\n",
      " 5   UNIDAD                             13018 non-null  object\n",
      " 6   GENERO                             13026 non-null  object\n",
      " 7   RED                                13026 non-null  object\n",
      " 8   TIPO_INCIDENTE                     13026 non-null  object\n",
      " 9   PRIORIDAD                          13026 non-null  object\n",
      " 10  RECEPCION                          13026 non-null  object\n",
      "dtypes: int64(1), object(10)\n",
      "memory usage: 1.1+ MB\n"
     ]
    }
   ],
   "source": [
    "data.info()"
   ]
  },
  {
   "cell_type": "code",
   "execution_count": 5,
   "metadata": {},
   "outputs": [
    {
     "data": {
      "text/plain": [
       "A¤os        0.520574\n",
       "SIN_DATO    0.475587\n",
       "Meses       0.002994\n",
       "Horas       0.000461\n",
       "Dias        0.000384\n",
       "Name: UNIDAD, dtype: float64"
      ]
     },
     "execution_count": 5,
     "metadata": {},
     "output_type": "execute_result"
    }
   ],
   "source": [
    "# Tratamiento de valores nulos \n",
    "# Nulo de strings --> SIN_DATO , N/A\n",
    "# Nulo de numeros --> np.nan\n",
    "# Nulo de fechas  --> NaT\n",
    "\n",
    "\n",
    "col = 'UNIDAD'\n",
    "# data[col].value_counts(dropna=False, normalize = True)\n",
    "data[col].fillna('SIN_DATO', inplace = True)\n",
    "data[col].value_counts(dropna=False, normalize = True)"
   ]
  },
  {
   "cell_type": "code",
   "execution_count": 6,
   "metadata": {},
   "outputs": [
    {
     "name": "stdout",
     "output_type": "stream",
     "text": [
      "<class 'pandas.core.frame.DataFrame'>\n",
      "RangeIndex: 13026 entries, 0 to 13025\n",
      "Data columns (total 11 columns):\n",
      " #   Column                             Non-Null Count  Dtype \n",
      "---  ------                             --------------  ----- \n",
      " 0   NUMERO_INCIDENTE                   13026 non-null  object\n",
      " 1   FECHA_INICIO_DESPLAZAMIENTO_MOVIL  13026 non-null  object\n",
      " 2   CODIGO_LOCALIDAD                   13026 non-null  int64 \n",
      " 3   LOCALIDAD                          13026 non-null  object\n",
      " 4   EDAD                               13026 non-null  object\n",
      " 5   UNIDAD                             13026 non-null  object\n",
      " 6   GENERO                             13026 non-null  object\n",
      " 7   RED                                13026 non-null  object\n",
      " 8   TIPO_INCIDENTE                     13026 non-null  object\n",
      " 9   PRIORIDAD                          13026 non-null  object\n",
      " 10  RECEPCION                          13026 non-null  object\n",
      "dtypes: int64(1), object(10)\n",
      "memory usage: 1.1+ MB\n"
     ]
    }
   ],
   "source": [
    "data.info()"
   ]
  },
  {
   "cell_type": "code",
   "execution_count": 7,
   "metadata": {},
   "outputs": [
    {
     "data": {
      "text/plain": [
       "Timestamp('1995-05-28 00:00:00')"
      ]
     },
     "execution_count": 7,
     "metadata": {},
     "output_type": "execute_result"
    }
   ],
   "source": [
    "fecha = '1995-05-28 00:00:00'\n",
    "pd.to_datetime(fecha, errors = 'coerce', format = '%Y/%m/%d')"
   ]
  },
  {
   "cell_type": "code",
   "execution_count": 8,
   "metadata": {},
   "outputs": [
    {
     "name": "stdout",
     "output_type": "stream",
     "text": [
      "<class 'pandas.core.frame.DataFrame'>\n",
      "RangeIndex: 13026 entries, 0 to 13025\n",
      "Data columns (total 11 columns):\n",
      " #   Column                             Non-Null Count  Dtype         \n",
      "---  ------                             --------------  -----         \n",
      " 0   NUMERO_INCIDENTE                   13026 non-null  object        \n",
      " 1   FECHA_INICIO_DESPLAZAMIENTO_MOVIL  13025 non-null  datetime64[ns]\n",
      " 2   CODIGO_LOCALIDAD                   13026 non-null  int64         \n",
      " 3   LOCALIDAD                          13026 non-null  object        \n",
      " 4   EDAD                               13026 non-null  object        \n",
      " 5   UNIDAD                             13026 non-null  object        \n",
      " 6   GENERO                             13026 non-null  object        \n",
      " 7   RED                                13026 non-null  object        \n",
      " 8   TIPO_INCIDENTE                     13026 non-null  object        \n",
      " 9   PRIORIDAD                          13026 non-null  object        \n",
      " 10  RECEPCION                          13026 non-null  object        \n",
      "dtypes: datetime64[ns](1), int64(1), object(9)\n",
      "memory usage: 1.1+ MB\n"
     ]
    }
   ],
   "source": [
    "col = 'FECHA_INICIO_DESPLAZAMIENTO_MOVIL'\n",
    "data[col] = pd.to_datetime(data[col], errors = 'coerce')\n",
    "data.info()"
   ]
  },
  {
   "cell_type": "code",
   "execution_count": 9,
   "metadata": {},
   "outputs": [
    {
     "data": {
      "text/plain": [
       "0         88\n",
       "1         16\n",
       "2         52\n",
       "3        NaN\n",
       "4         33\n",
       "        ... \n",
       "13021     18\n",
       "13022    NaN\n",
       "13023     11\n",
       "13024     19\n",
       "13025    NaN\n",
       "Name: EDAD, Length: 13026, dtype: object"
      ]
     },
     "execution_count": 9,
     "metadata": {},
     "output_type": "execute_result"
    }
   ],
   "source": [
    "col = 'EDAD'\n",
    "data[col].replace({'SIN_DATO': np.nan}, inplace=True)\n",
    "data[col]"
   ]
  },
  {
   "cell_type": "code",
   "execution_count": 10,
   "metadata": {},
   "outputs": [
    {
     "data": {
      "text/plain": [
       "array(['88', '16', '52', nan, '33', '57', '65', '14', '83', '35', '19',\n",
       "       '53', '56', '45', '2', '18', '34', '84', '80', '7', '64', '41',\n",
       "       '28', '23', '85', '92', '38', '11', '58', '70', '50', '27', '67',\n",
       "       '54', '87', '24', '90', '99', '49', '91', '21', '62', '59', '26',\n",
       "       '78', '30', '32', '51', '15', '79', '37', '60', '76', '22', '47',\n",
       "       '61', '82', '86', '77', '63', '39', '89', '36', '97', '40', '75',\n",
       "       '13', '25', '73', '69', '72', '68', '44', '31', '74', '81', '43',\n",
       "       '20', '66', '10', '48', '29', '8', '17', '94', '55', '1', '4', '3',\n",
       "       '9', '71', '46', '6', '95', '93', '98', '96', '42', '5', '12'],\n",
       "      dtype=object)"
      ]
     },
     "execution_count": 10,
     "metadata": {},
     "output_type": "execute_result"
    }
   ],
   "source": [
    "data[col].value_counts()  # Cuenta\n",
    "data[col].unique()  # Muestra"
   ]
  },
  {
   "cell_type": "code",
   "execution_count": 11,
   "metadata": {},
   "outputs": [
    {
     "data": {
      "text/plain": [
       "16"
      ]
     },
     "execution_count": 11,
     "metadata": {},
     "output_type": "execute_result"
    }
   ],
   "source": [
    "# Funciones lambda\n",
    "\n",
    "f = lambda x: x**2\n",
    "\n",
    "x=4\n",
    "f(x)"
   ]
  },
  {
   "cell_type": "code",
   "execution_count": 12,
   "metadata": {},
   "outputs": [
    {
     "data": {
      "text/plain": [
       "35"
      ]
     },
     "execution_count": 12,
     "metadata": {},
     "output_type": "execute_result"
    }
   ],
   "source": [
    "str_num = '35'\n",
    "f = lambda x: int(str_num)\n",
    "\n",
    "f(str_num)"
   ]
  },
  {
   "cell_type": "code",
   "execution_count": 13,
   "metadata": {},
   "outputs": [
    {
     "data": {
      "text/plain": [
       "35"
      ]
     },
     "execution_count": 13,
     "metadata": {},
     "output_type": "execute_result"
    }
   ],
   "source": [
    "str_num = '35'\n",
    "f = lambda x: x if pd.isna(x) else int(str_num)\n",
    "\n",
    "f(str_num)"
   ]
  },
  {
   "cell_type": "code",
   "execution_count": 14,
   "metadata": {},
   "outputs": [],
   "source": [
    "data[col] = data[col].apply(f)"
   ]
  },
  {
   "cell_type": "code",
   "execution_count": 15,
   "metadata": {},
   "outputs": [
    {
     "name": "stdout",
     "output_type": "stream",
     "text": [
      "<class 'pandas.core.frame.DataFrame'>\n",
      "RangeIndex: 13026 entries, 0 to 13025\n",
      "Data columns (total 11 columns):\n",
      " #   Column                             Non-Null Count  Dtype         \n",
      "---  ------                             --------------  -----         \n",
      " 0   NUMERO_INCIDENTE                   13026 non-null  object        \n",
      " 1   FECHA_INICIO_DESPLAZAMIENTO_MOVIL  13025 non-null  datetime64[ns]\n",
      " 2   CODIGO_LOCALIDAD                   13026 non-null  int64         \n",
      " 3   LOCALIDAD                          13026 non-null  object        \n",
      " 4   EDAD                               6839 non-null   float64       \n",
      " 5   UNIDAD                             13026 non-null  object        \n",
      " 6   GENERO                             13026 non-null  object        \n",
      " 7   RED                                13026 non-null  object        \n",
      " 8   TIPO_INCIDENTE                     13026 non-null  object        \n",
      " 9   PRIORIDAD                          13026 non-null  object        \n",
      " 10  RECEPCION                          13026 non-null  object        \n",
      "dtypes: datetime64[ns](1), float64(1), int64(1), object(8)\n",
      "memory usage: 1.1+ MB\n"
     ]
    }
   ],
   "source": [
    "data.info()"
   ]
  },
  {
   "cell_type": "code",
   "execution_count": 16,
   "metadata": {},
   "outputs": [
    {
     "data": {
      "text/plain": [
       "0        2022-07-01 03:40:13\n",
       "1        2022-07-01 03:38:13\n",
       "2        2022-07-01 04:08:24\n",
       "3        0000-00-00 00:00:00\n",
       "4        2022-07-01 03:25:29\n",
       "                ...         \n",
       "13021         8/08/2022 6:48\n",
       "13022    0000-00-00 00:00:00\n",
       "13023        9/08/2022 13:13\n",
       "13024    0000-00-00 00:00:00\n",
       "13025    0000-00-00 00:00:00\n",
       "Name: RECEPCION, Length: 13026, dtype: object"
      ]
     },
     "execution_count": 16,
     "metadata": {},
     "output_type": "execute_result"
    }
   ],
   "source": [
    "col = 'RECEPCION'\n",
    "data[col]"
   ]
  },
  {
   "cell_type": "code",
   "execution_count": 17,
   "metadata": {},
   "outputs": [
    {
     "data": {
      "text/plain": [
       "datetime.datetime(2021, 5, 29, 0, 0)"
      ]
     },
     "execution_count": 17,
     "metadata": {},
     "output_type": "execute_result"
    }
   ],
   "source": [
    "# Mas de datetimes\n",
    "from dateutil.parser import parse\n",
    "fecha = 'may 29th 2021'\n",
    "parse(fecha)\n"
   ]
  },
  {
   "cell_type": "code",
   "execution_count": 18,
   "metadata": {},
   "outputs": [],
   "source": [
    "fechas = lambda x: parse(x)\n",
    "\n",
    "list_fechas = list()\n",
    "for fecha in data[col]:\n",
    "    try:\n",
    "        new_fecha = parse(fecha)\n",
    "    except Exception as e:\n",
    "        #print(e)\n",
    "        new_fecha = pd.to_datetime(fecha, errors= 'coerce')\n",
    "        #print(e,new_fecha)\n",
    "    list_fechas.append(new_fecha)\n",
    "#print(new_fecha)\n",
    "# pd.to_datetime(data[col], errors='ignore')\n",
    "data['RECEPCION_Corr'] = list_fechas"
   ]
  },
  {
   "cell_type": "code",
   "execution_count": 19,
   "metadata": {},
   "outputs": [
    {
     "data": {
      "text/html": [
       "<div>\n",
       "<style scoped>\n",
       "    .dataframe tbody tr th:only-of-type {\n",
       "        vertical-align: middle;\n",
       "    }\n",
       "\n",
       "    .dataframe tbody tr th {\n",
       "        vertical-align: top;\n",
       "    }\n",
       "\n",
       "    .dataframe thead th {\n",
       "        text-align: right;\n",
       "    }\n",
       "</style>\n",
       "<table border=\"1\" class=\"dataframe\">\n",
       "  <thead>\n",
       "    <tr style=\"text-align: right;\">\n",
       "      <th></th>\n",
       "      <th>NUMERO_INCIDENTE</th>\n",
       "      <th>FECHA_INICIO_DESPLAZAMIENTO_MOVIL</th>\n",
       "      <th>CODIGO_LOCALIDAD</th>\n",
       "      <th>LOCALIDAD</th>\n",
       "      <th>EDAD</th>\n",
       "      <th>UNIDAD</th>\n",
       "      <th>GENERO</th>\n",
       "      <th>RED</th>\n",
       "      <th>TIPO_INCIDENTE</th>\n",
       "      <th>PRIORIDAD</th>\n",
       "      <th>RECEPCION</th>\n",
       "      <th>RECEPCION_Corr</th>\n",
       "    </tr>\n",
       "  </thead>\n",
       "  <tbody>\n",
       "    <tr>\n",
       "      <th>0</th>\n",
       "      <td>CRU-00278353-22</td>\n",
       "      <td>2022-07-01 00:08:59</td>\n",
       "      <td>11</td>\n",
       "      <td>Suba</td>\n",
       "      <td>35.0</td>\n",
       "      <td>A¤os</td>\n",
       "      <td>FEMENINO</td>\n",
       "      <td>Norte</td>\n",
       "      <td>Accidente Cerebro Vascular</td>\n",
       "      <td>ALTA</td>\n",
       "      <td>2022-07-01 03:40:13</td>\n",
       "      <td>2022-07-01 03:40:13</td>\n",
       "    </tr>\n",
       "    <tr>\n",
       "      <th>1</th>\n",
       "      <td>CRU-00278360-22</td>\n",
       "      <td>2022-07-01 00:14:58</td>\n",
       "      <td>11</td>\n",
       "      <td>Suba</td>\n",
       "      <td>35.0</td>\n",
       "      <td>A¤os</td>\n",
       "      <td>MASCULINO</td>\n",
       "      <td>Norte</td>\n",
       "      <td>Herido</td>\n",
       "      <td>ALTA</td>\n",
       "      <td>2022-07-01 03:38:13</td>\n",
       "      <td>2022-07-01 03:38:13</td>\n",
       "    </tr>\n",
       "    <tr>\n",
       "      <th>2</th>\n",
       "      <td>CRU-00278365-22</td>\n",
       "      <td>2022-07-01 00:21:59</td>\n",
       "      <td>18</td>\n",
       "      <td>Rafael Uribe Uribe</td>\n",
       "      <td>35.0</td>\n",
       "      <td>A¤os</td>\n",
       "      <td>FEMENINO</td>\n",
       "      <td>Centro Oriente</td>\n",
       "      <td>Evento Respiratorio</td>\n",
       "      <td>CRITICA</td>\n",
       "      <td>2022-07-01 04:08:24</td>\n",
       "      <td>2022-07-01 04:08:24</td>\n",
       "    </tr>\n",
       "    <tr>\n",
       "      <th>3</th>\n",
       "      <td>CRU-00278370-22</td>\n",
       "      <td>2022-07-01 00:38:38</td>\n",
       "      <td>19</td>\n",
       "      <td>Ciudad Bol¡var</td>\n",
       "      <td>NaN</td>\n",
       "      <td>SIN_DATO</td>\n",
       "      <td>SIN_DATO</td>\n",
       "      <td>Privada</td>\n",
       "      <td>Herido</td>\n",
       "      <td>ALTA</td>\n",
       "      <td>0000-00-00 00:00:00</td>\n",
       "      <td>NaT</td>\n",
       "    </tr>\n",
       "    <tr>\n",
       "      <th>4</th>\n",
       "      <td>CRU-00278372-22</td>\n",
       "      <td>2022-07-01 00:53:32</td>\n",
       "      <td>1</td>\n",
       "      <td>Usaqun</td>\n",
       "      <td>35.0</td>\n",
       "      <td>A¤os</td>\n",
       "      <td>MASCULINO</td>\n",
       "      <td>Norte</td>\n",
       "      <td>Intento de Suicidio</td>\n",
       "      <td>ALTA</td>\n",
       "      <td>2022-07-01 03:25:29</td>\n",
       "      <td>2022-07-01 03:25:29</td>\n",
       "    </tr>\n",
       "  </tbody>\n",
       "</table>\n",
       "</div>"
      ],
      "text/plain": [
       "  NUMERO_INCIDENTE FECHA_INICIO_DESPLAZAMIENTO_MOVIL  CODIGO_LOCALIDAD  \\\n",
       "0  CRU-00278353-22               2022-07-01 00:08:59                11   \n",
       "1  CRU-00278360-22               2022-07-01 00:14:58                11   \n",
       "2  CRU-00278365-22               2022-07-01 00:21:59                18   \n",
       "3  CRU-00278370-22               2022-07-01 00:38:38                19   \n",
       "4  CRU-00278372-22               2022-07-01 00:53:32                 1   \n",
       "\n",
       "            LOCALIDAD  EDAD    UNIDAD     GENERO             RED  \\\n",
       "0                Suba  35.0      A¤os   FEMENINO           Norte   \n",
       "1                Suba  35.0      A¤os  MASCULINO           Norte   \n",
       "2  Rafael Uribe Uribe  35.0      A¤os   FEMENINO  Centro Oriente   \n",
       "3      Ciudad Bol¡var   NaN  SIN_DATO   SIN_DATO         Privada   \n",
       "4             Usaqun  35.0      A¤os  MASCULINO           Norte   \n",
       "\n",
       "               TIPO_INCIDENTE PRIORIDAD            RECEPCION  \\\n",
       "0  Accidente Cerebro Vascular      ALTA  2022-07-01 03:40:13   \n",
       "1                      Herido      ALTA  2022-07-01 03:38:13   \n",
       "2         Evento Respiratorio   CRITICA  2022-07-01 04:08:24   \n",
       "3                      Herido      ALTA  0000-00-00 00:00:00   \n",
       "4         Intento de Suicidio      ALTA  2022-07-01 03:25:29   \n",
       "\n",
       "       RECEPCION_Corr  \n",
       "0 2022-07-01 03:40:13  \n",
       "1 2022-07-01 03:38:13  \n",
       "2 2022-07-01 04:08:24  \n",
       "3                 NaT  \n",
       "4 2022-07-01 03:25:29  "
      ]
     },
     "execution_count": 19,
     "metadata": {},
     "output_type": "execute_result"
    }
   ],
   "source": [
    "data.head()"
   ]
  },
  {
   "cell_type": "code",
   "execution_count": 20,
   "metadata": {},
   "outputs": [
    {
     "name": "stdout",
     "output_type": "stream",
     "text": [
      "<class 'pandas.core.frame.DataFrame'>\n",
      "RangeIndex: 13026 entries, 0 to 13025\n",
      "Data columns (total 12 columns):\n",
      " #   Column                             Non-Null Count  Dtype         \n",
      "---  ------                             --------------  -----         \n",
      " 0   NUMERO_INCIDENTE                   13026 non-null  object        \n",
      " 1   FECHA_INICIO_DESPLAZAMIENTO_MOVIL  13025 non-null  datetime64[ns]\n",
      " 2   CODIGO_LOCALIDAD                   13026 non-null  int64         \n",
      " 3   LOCALIDAD                          13026 non-null  object        \n",
      " 4   EDAD                               6839 non-null   float64       \n",
      " 5   UNIDAD                             13026 non-null  object        \n",
      " 6   GENERO                             13026 non-null  object        \n",
      " 7   RED                                13026 non-null  object        \n",
      " 8   TIPO_INCIDENTE                     13026 non-null  object        \n",
      " 9   PRIORIDAD                          13026 non-null  object        \n",
      " 10  RECEPCION                          13026 non-null  object        \n",
      " 11  RECEPCION_Corr                     5259 non-null   datetime64[ns]\n",
      "dtypes: datetime64[ns](2), float64(1), int64(1), object(8)\n",
      "memory usage: 1.2+ MB\n"
     ]
    }
   ],
   "source": [
    "data.info()"
   ]
  },
  {
   "cell_type": "code",
   "execution_count": 21,
   "metadata": {},
   "outputs": [
    {
     "name": "stdout",
     "output_type": "stream",
     "text": [
      "BigData\n",
      "BigData\n"
     ]
    }
   ],
   "source": [
    "# strings\n",
    "\n",
    "word1 = 'BigData'\n",
    "word2 = ' BigData'\n",
    "\n",
    "print(word1.strip())\n",
    "print(word2.strip())"
   ]
  },
  {
   "cell_type": "code",
   "execution_count": 22,
   "metadata": {},
   "outputs": [
    {
     "name": "stdout",
     "output_type": "stream",
     "text": [
      "BIG DATA\n",
      "big data\n",
      "Big data\n"
     ]
    }
   ],
   "source": [
    "word1 = 'Big Data'\n",
    "word2 = ' Big Data'\n",
    "word1.replace(' ', '')\n",
    "print(word1.upper())\n",
    "print(word1.lower())\n",
    "print(word1.capitalize())"
   ]
  },
  {
   "cell_type": "code",
   "execution_count": 23,
   "metadata": {},
   "outputs": [
    {
     "data": {
      "text/plain": [
       "array(['Suba', 'Rafael Uribe Uribe', 'Ciudad Bol¡var', 'Usaqu\\x82n',\n",
       "       'La Candelaria', 'Antonio Nari¤o', 'San Crist¢bal', 'Teusaquillo',\n",
       "       'Kennedy', 'Usme', 'Bosa', 'Tunjuelito', 'Engativ\\xa0',\n",
       "       'Los M\\xa0rtires', 'Fontib¢n', 'Chapinero', 'Puente Aranda',\n",
       "       'Santa Fe', 'Barrios Unidos', 'Sumapaz'], dtype=object)"
      ]
     },
     "execution_count": 23,
     "metadata": {},
     "output_type": "execute_result"
    }
   ],
   "source": [
    "col = 'LOCALIDAD'\n",
    "(data[col]).unique()\n",
    "\n"
   ]
  },
  {
   "cell_type": "code",
   "execution_count": 24,
   "metadata": {},
   "outputs": [
    {
     "data": {
      "text/plain": [
       "'Los Martires'"
      ]
     },
     "execution_count": 24,
     "metadata": {},
     "output_type": "execute_result"
    }
   ],
   "source": [
    "import re\n",
    "\n",
    "txt = 'Los Martires'\n",
    "def encontrar_patron(patron, txt):\n",
    "    if re.search(patron, txt):\n",
    "        new_txt = 'Los Martires'\n",
    "        return new_txt\n",
    "    else:\n",
    "        pass\n",
    "encontrar_patron(\"Los.*tires\", 'Los M\\xa0rtires')\n",
    "\n"
   ]
  }
 ],
 "metadata": {
  "kernelspec": {
   "display_name": "Python 3.9.12 ('base')",
   "language": "python",
   "name": "python3"
  },
  "language_info": {
   "codemirror_mode": {
    "name": "ipython",
    "version": 3
   },
   "file_extension": ".py",
   "mimetype": "text/x-python",
   "name": "python",
   "nbconvert_exporter": "python",
   "pygments_lexer": "ipython3",
   "version": "3.9.12"
  },
  "orig_nbformat": 4,
  "vscode": {
   "interpreter": {
    "hash": "f08154012ddadd8e950e6e9e035c7a7b32c136e7647e9b7c77e02eb723a8bedb"
   }
  }
 },
 "nbformat": 4,
 "nbformat_minor": 2
}
